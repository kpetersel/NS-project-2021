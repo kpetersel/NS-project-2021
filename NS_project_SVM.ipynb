{
  "nbformat": 4,
  "nbformat_minor": 0,
  "metadata": {
    "kernelspec": {
      "display_name": "Python 3",
      "language": "python",
      "name": "python3"
    },
    "language_info": {
      "codemirror_mode": {
        "name": "ipython",
        "version": 3
      },
      "file_extension": ".py",
      "mimetype": "text/x-python",
      "name": "python",
      "nbconvert_exporter": "python",
      "pygments_lexer": "ipython3",
      "version": "3.8.5"
    },
    "colab": {
      "name": "NS project SVM",
      "provenance": [],
      "collapsed_sections": []
    },
    "widgets": {
      "application/vnd.jupyter.widget-state+json": {
        "4f4236cbecfe4f94a0b2daf7346fb87f": {
          "model_module": "@jupyter-widgets/controls",
          "model_name": "HBoxModel",
          "state": {
            "_view_name": "HBoxView",
            "_dom_classes": [],
            "_model_name": "HBoxModel",
            "_view_module": "@jupyter-widgets/controls",
            "_model_module_version": "1.5.0",
            "_view_count": null,
            "_view_module_version": "1.5.0",
            "box_style": "",
            "layout": "IPY_MODEL_8a8dbefedb3a414093cc2566a1991bb7",
            "_model_module": "@jupyter-widgets/controls",
            "children": [
              "IPY_MODEL_d47eadbfab33435486a17ff171dc15ab",
              "IPY_MODEL_b5cad9edd2fb49a09357babb83a0e67a",
              "IPY_MODEL_63d758a5582048768b2348c9e41361b4"
            ]
          }
        },
        "8a8dbefedb3a414093cc2566a1991bb7": {
          "model_module": "@jupyter-widgets/base",
          "model_name": "LayoutModel",
          "state": {
            "_view_name": "LayoutView",
            "grid_template_rows": null,
            "right": null,
            "justify_content": null,
            "_view_module": "@jupyter-widgets/base",
            "overflow": null,
            "_model_module_version": "1.2.0",
            "_view_count": null,
            "flex_flow": null,
            "width": null,
            "min_width": null,
            "border": null,
            "align_items": null,
            "bottom": null,
            "_model_module": "@jupyter-widgets/base",
            "top": null,
            "grid_column": null,
            "overflow_y": null,
            "overflow_x": null,
            "grid_auto_flow": null,
            "grid_area": null,
            "grid_template_columns": null,
            "flex": null,
            "_model_name": "LayoutModel",
            "justify_items": null,
            "grid_row": null,
            "max_height": null,
            "align_content": null,
            "visibility": null,
            "align_self": null,
            "height": null,
            "min_height": null,
            "padding": null,
            "grid_auto_rows": null,
            "grid_gap": null,
            "max_width": null,
            "order": null,
            "_view_module_version": "1.2.0",
            "grid_template_areas": null,
            "object_position": null,
            "object_fit": null,
            "grid_auto_columns": null,
            "margin": null,
            "display": null,
            "left": null
          }
        },
        "d47eadbfab33435486a17ff171dc15ab": {
          "model_module": "@jupyter-widgets/controls",
          "model_name": "HTMLModel",
          "state": {
            "_view_name": "HTMLView",
            "style": "IPY_MODEL_2c322f05de6d4867b9f544483020faba",
            "_dom_classes": [],
            "description": "",
            "_model_name": "HTMLModel",
            "placeholder": "​",
            "_view_module": "@jupyter-widgets/controls",
            "_model_module_version": "1.5.0",
            "value": "Computing transition probabilities: 100%",
            "_view_count": null,
            "_view_module_version": "1.5.0",
            "description_tooltip": null,
            "_model_module": "@jupyter-widgets/controls",
            "layout": "IPY_MODEL_c5c2ee2c3e434741a3349e4ca1d11531"
          }
        },
        "b5cad9edd2fb49a09357babb83a0e67a": {
          "model_module": "@jupyter-widgets/controls",
          "model_name": "FloatProgressModel",
          "state": {
            "_view_name": "ProgressView",
            "style": "IPY_MODEL_44cf985d77fe440c9ee7502b4890e5a0",
            "_dom_classes": [],
            "description": "",
            "_model_name": "FloatProgressModel",
            "bar_style": "success",
            "max": 22470,
            "_view_module": "@jupyter-widgets/controls",
            "_model_module_version": "1.5.0",
            "value": 22470,
            "_view_count": null,
            "_view_module_version": "1.5.0",
            "orientation": "horizontal",
            "min": 0,
            "description_tooltip": null,
            "_model_module": "@jupyter-widgets/controls",
            "layout": "IPY_MODEL_0c40fd63e69344b191666bb0927655fb"
          }
        },
        "63d758a5582048768b2348c9e41361b4": {
          "model_module": "@jupyter-widgets/controls",
          "model_name": "HTMLModel",
          "state": {
            "_view_name": "HTMLView",
            "style": "IPY_MODEL_b8c5e00593be4632bd4345f79bbd15ea",
            "_dom_classes": [],
            "description": "",
            "_model_name": "HTMLModel",
            "placeholder": "​",
            "_view_module": "@jupyter-widgets/controls",
            "_model_module_version": "1.5.0",
            "value": " 22470/22470 [01:35&lt;00:00, 2305.34it/s]",
            "_view_count": null,
            "_view_module_version": "1.5.0",
            "description_tooltip": null,
            "_model_module": "@jupyter-widgets/controls",
            "layout": "IPY_MODEL_060cc7015ae54b0abde26647267bc5b7"
          }
        },
        "2c322f05de6d4867b9f544483020faba": {
          "model_module": "@jupyter-widgets/controls",
          "model_name": "DescriptionStyleModel",
          "state": {
            "_view_name": "StyleView",
            "_model_name": "DescriptionStyleModel",
            "description_width": "",
            "_view_module": "@jupyter-widgets/base",
            "_model_module_version": "1.5.0",
            "_view_count": null,
            "_view_module_version": "1.2.0",
            "_model_module": "@jupyter-widgets/controls"
          }
        },
        "c5c2ee2c3e434741a3349e4ca1d11531": {
          "model_module": "@jupyter-widgets/base",
          "model_name": "LayoutModel",
          "state": {
            "_view_name": "LayoutView",
            "grid_template_rows": null,
            "right": null,
            "justify_content": null,
            "_view_module": "@jupyter-widgets/base",
            "overflow": null,
            "_model_module_version": "1.2.0",
            "_view_count": null,
            "flex_flow": null,
            "width": null,
            "min_width": null,
            "border": null,
            "align_items": null,
            "bottom": null,
            "_model_module": "@jupyter-widgets/base",
            "top": null,
            "grid_column": null,
            "overflow_y": null,
            "overflow_x": null,
            "grid_auto_flow": null,
            "grid_area": null,
            "grid_template_columns": null,
            "flex": null,
            "_model_name": "LayoutModel",
            "justify_items": null,
            "grid_row": null,
            "max_height": null,
            "align_content": null,
            "visibility": null,
            "align_self": null,
            "height": null,
            "min_height": null,
            "padding": null,
            "grid_auto_rows": null,
            "grid_gap": null,
            "max_width": null,
            "order": null,
            "_view_module_version": "1.2.0",
            "grid_template_areas": null,
            "object_position": null,
            "object_fit": null,
            "grid_auto_columns": null,
            "margin": null,
            "display": null,
            "left": null
          }
        },
        "44cf985d77fe440c9ee7502b4890e5a0": {
          "model_module": "@jupyter-widgets/controls",
          "model_name": "ProgressStyleModel",
          "state": {
            "_view_name": "StyleView",
            "_model_name": "ProgressStyleModel",
            "description_width": "",
            "_view_module": "@jupyter-widgets/base",
            "_model_module_version": "1.5.0",
            "_view_count": null,
            "_view_module_version": "1.2.0",
            "bar_color": null,
            "_model_module": "@jupyter-widgets/controls"
          }
        },
        "0c40fd63e69344b191666bb0927655fb": {
          "model_module": "@jupyter-widgets/base",
          "model_name": "LayoutModel",
          "state": {
            "_view_name": "LayoutView",
            "grid_template_rows": null,
            "right": null,
            "justify_content": null,
            "_view_module": "@jupyter-widgets/base",
            "overflow": null,
            "_model_module_version": "1.2.0",
            "_view_count": null,
            "flex_flow": null,
            "width": null,
            "min_width": null,
            "border": null,
            "align_items": null,
            "bottom": null,
            "_model_module": "@jupyter-widgets/base",
            "top": null,
            "grid_column": null,
            "overflow_y": null,
            "overflow_x": null,
            "grid_auto_flow": null,
            "grid_area": null,
            "grid_template_columns": null,
            "flex": null,
            "_model_name": "LayoutModel",
            "justify_items": null,
            "grid_row": null,
            "max_height": null,
            "align_content": null,
            "visibility": null,
            "align_self": null,
            "height": null,
            "min_height": null,
            "padding": null,
            "grid_auto_rows": null,
            "grid_gap": null,
            "max_width": null,
            "order": null,
            "_view_module_version": "1.2.0",
            "grid_template_areas": null,
            "object_position": null,
            "object_fit": null,
            "grid_auto_columns": null,
            "margin": null,
            "display": null,
            "left": null
          }
        },
        "b8c5e00593be4632bd4345f79bbd15ea": {
          "model_module": "@jupyter-widgets/controls",
          "model_name": "DescriptionStyleModel",
          "state": {
            "_view_name": "StyleView",
            "_model_name": "DescriptionStyleModel",
            "description_width": "",
            "_view_module": "@jupyter-widgets/base",
            "_model_module_version": "1.5.0",
            "_view_count": null,
            "_view_module_version": "1.2.0",
            "_model_module": "@jupyter-widgets/controls"
          }
        },
        "060cc7015ae54b0abde26647267bc5b7": {
          "model_module": "@jupyter-widgets/base",
          "model_name": "LayoutModel",
          "state": {
            "_view_name": "LayoutView",
            "grid_template_rows": null,
            "right": null,
            "justify_content": null,
            "_view_module": "@jupyter-widgets/base",
            "overflow": null,
            "_model_module_version": "1.2.0",
            "_view_count": null,
            "flex_flow": null,
            "width": null,
            "min_width": null,
            "border": null,
            "align_items": null,
            "bottom": null,
            "_model_module": "@jupyter-widgets/base",
            "top": null,
            "grid_column": null,
            "overflow_y": null,
            "overflow_x": null,
            "grid_auto_flow": null,
            "grid_area": null,
            "grid_template_columns": null,
            "flex": null,
            "_model_name": "LayoutModel",
            "justify_items": null,
            "grid_row": null,
            "max_height": null,
            "align_content": null,
            "visibility": null,
            "align_self": null,
            "height": null,
            "min_height": null,
            "padding": null,
            "grid_auto_rows": null,
            "grid_gap": null,
            "max_width": null,
            "order": null,
            "_view_module_version": "1.2.0",
            "grid_template_areas": null,
            "object_position": null,
            "object_fit": null,
            "grid_auto_columns": null,
            "margin": null,
            "display": null,
            "left": null
          }
        }
      }
    }
  },
  "cells": [
    {
      "cell_type": "markdown",
      "metadata": {
        "id": "ja8G4NYcKHDe"
      },
      "source": [
        "\n",
        "<h1><center> <font color='black'>  Network Science (LTAT.02.011) - Project \n",
        "\n",
        "<h2><center> <font color='black'> University of Tartu</font></center></h3>\n"
      ]
    },
    {
      "cell_type": "markdown",
      "metadata": {
        "id": "FpXgiV_0iaTi"
      },
      "source": [
        "## SVM\n"
      ]
    },
    {
      "cell_type": "code",
      "metadata": {
        "id": "KUQJVUEiiaTi",
        "colab": {
          "base_uri": "https://localhost:8080/"
        },
        "outputId": "ae846a7b-8660-4309-c874-e66fd6b6f5dd"
      },
      "source": [
        "# Importing required libraries (install other libraries if needed)\n",
        "!pip install node2vec\n",
        "import pandas as pd\n",
        "import numpy as np\n",
        "import random\n",
        "import networkx as nx\n",
        "import matplotlib.pyplot as plt\n",
        "from node2vec import Node2Vec\n",
        "from sklearn.preprocessing import StandardScaler\n",
        "from sklearn.metrics import classification_report\n",
        "from sklearn.model_selection import train_test_split\n",
        "from sklearn.svm import SVC\n",
        "\n",
        "import os\n",
        "from scipy import sparse\n",
        "from sklearn.metrics import f1_score\n",
        "from sklearn.decomposition import NMF, TruncatedSVD\n",
        "from sklearn.model_selection import train_test_split\n",
        "from sklearn.linear_model import LogisticRegression, ElasticNet"
      ],
      "execution_count": null,
      "outputs": [
        {
          "output_type": "stream",
          "text": [
            "Requirement already satisfied: node2vec in /usr/local/lib/python3.7/dist-packages (0.4.3)\n",
            "Requirement already satisfied: joblib>=0.13.2 in /usr/local/lib/python3.7/dist-packages (from node2vec) (1.0.0)\n",
            "Requirement already satisfied: numpy in /usr/local/lib/python3.7/dist-packages (from node2vec) (1.19.1)\n",
            "Requirement already satisfied: gensim in /usr/local/lib/python3.7/dist-packages (from node2vec) (3.6.0)\n",
            "Requirement already satisfied: tqdm in /usr/local/lib/python3.7/dist-packages (from node2vec) (4.56.0)\n",
            "Requirement already satisfied: networkx in /usr/local/lib/python3.7/dist-packages (from node2vec) (2.5.1)\n",
            "Requirement already satisfied: smart-open>=1.2.1 in /usr/local/lib/python3.7/dist-packages (from gensim->node2vec) (5.0.0)\n",
            "Requirement already satisfied: scipy>=0.18.1 in /usr/local/lib/python3.7/dist-packages (from gensim->node2vec) (1.5.4)\n",
            "Requirement already satisfied: six>=1.5.0 in /usr/local/lib/python3.7/dist-packages (from gensim->node2vec) (1.15.0)\n",
            "Requirement already satisfied: decorator<5,>=4.3 in /usr/local/lib/python3.7/dist-packages (from networkx->node2vec) (4.4.2)\n"
          ],
          "name": "stdout"
        }
      ]
    },
    {
      "cell_type": "code",
      "metadata": {
        "id": "B7NobR8piaTi"
      },
      "source": [
        "# load nodes details\n",
        "edges = pd.read_csv('musae_facebook_edges.csv')\n",
        "\n",
        "# load edges (or links)\n",
        "nodes = pd.read_csv('musae_facebook_target.csv')\n",
        "\n"
      ],
      "execution_count": null,
      "outputs": []
    },
    {
      "cell_type": "code",
      "metadata": {
        "id": "LthhwZ2sfQCn"
      },
      "source": [
        "edges=edges.rename(columns={'id_1': 'id'})"
      ],
      "execution_count": null,
      "outputs": []
    },
    {
      "cell_type": "code",
      "metadata": {
        "colab": {
          "base_uri": "https://localhost:8080/",
          "height": 206
        },
        "id": "PlzSj7KIeH7S",
        "outputId": "ab34b457-4c0a-4745-f1a4-4409ec959ca9"
      },
      "source": [
        "left_merged = pd.merge(edges, nodes, on=\"id\")\n",
        "left_merged.head()"
      ],
      "execution_count": null,
      "outputs": [
        {
          "output_type": "execute_result",
          "data": {
            "text/html": [
              "<div>\n",
              "<style scoped>\n",
              "    .dataframe tbody tr th:only-of-type {\n",
              "        vertical-align: middle;\n",
              "    }\n",
              "\n",
              "    .dataframe tbody tr th {\n",
              "        vertical-align: top;\n",
              "    }\n",
              "\n",
              "    .dataframe thead th {\n",
              "        text-align: right;\n",
              "    }\n",
              "</style>\n",
              "<table border=\"1\" class=\"dataframe\">\n",
              "  <thead>\n",
              "    <tr style=\"text-align: right;\">\n",
              "      <th></th>\n",
              "      <th>id</th>\n",
              "      <th>id_2</th>\n",
              "      <th>facebook_id</th>\n",
              "      <th>page_name</th>\n",
              "      <th>page_type</th>\n",
              "    </tr>\n",
              "  </thead>\n",
              "  <tbody>\n",
              "    <tr>\n",
              "      <th>0</th>\n",
              "      <td>0</td>\n",
              "      <td>18427</td>\n",
              "      <td>145647315578475</td>\n",
              "      <td>The Voice of China 中国好声音</td>\n",
              "      <td>tvshow</td>\n",
              "    </tr>\n",
              "    <tr>\n",
              "      <th>1</th>\n",
              "      <td>1</td>\n",
              "      <td>21708</td>\n",
              "      <td>191483281412</td>\n",
              "      <td>U.S. Consulate General Mumbai</td>\n",
              "      <td>government</td>\n",
              "    </tr>\n",
              "    <tr>\n",
              "      <th>2</th>\n",
              "      <td>1</td>\n",
              "      <td>22208</td>\n",
              "      <td>191483281412</td>\n",
              "      <td>U.S. Consulate General Mumbai</td>\n",
              "      <td>government</td>\n",
              "    </tr>\n",
              "    <tr>\n",
              "      <th>3</th>\n",
              "      <td>1</td>\n",
              "      <td>22171</td>\n",
              "      <td>191483281412</td>\n",
              "      <td>U.S. Consulate General Mumbai</td>\n",
              "      <td>government</td>\n",
              "    </tr>\n",
              "    <tr>\n",
              "      <th>4</th>\n",
              "      <td>1</td>\n",
              "      <td>6829</td>\n",
              "      <td>191483281412</td>\n",
              "      <td>U.S. Consulate General Mumbai</td>\n",
              "      <td>government</td>\n",
              "    </tr>\n",
              "  </tbody>\n",
              "</table>\n",
              "</div>"
            ],
            "text/plain": [
              "   id   id_2      facebook_id                      page_name   page_type\n",
              "0   0  18427  145647315578475       The Voice of China 中国好声音      tvshow\n",
              "1   1  21708     191483281412  U.S. Consulate General Mumbai  government\n",
              "2   1  22208     191483281412  U.S. Consulate General Mumbai  government\n",
              "3   1  22171     191483281412  U.S. Consulate General Mumbai  government\n",
              "4   1   6829     191483281412  U.S. Consulate General Mumbai  government"
            ]
          },
          "metadata": {
            "tags": []
          },
          "execution_count": 5
        }
      ]
    },
    {
      "cell_type": "code",
      "metadata": {
        "id": "-PwXChzikYSf"
      },
      "source": [
        "X = left_merged[[\"id\", \"id_2\"]]\n",
        "y = left_merged[\"page_type\"]"
      ],
      "execution_count": null,
      "outputs": []
    },
    {
      "cell_type": "code",
      "metadata": {
        "colab": {
          "base_uri": "https://localhost:8080/"
        },
        "id": "PCp_Qlktkylc",
        "outputId": "1a6b3069-d2e4-4d5b-f085-c17d9170df19"
      },
      "source": [
        "X_train, X_test, y_train, y_test = train_test_split(X, y, \n",
        "                                                test_size = 0.2, \n",
        "                                                random_state = 35)\n",
        "print(\"X_train shape: \" + str(X_train.shape))\n",
        "print(\"X_test shape: \" + str(X_test.shape))\n",
        "print(\"y_train shape: \" + str(y_train.shape))\n",
        "print(\"y_test shape: \" + str(y_test.shape))"
      ],
      "execution_count": null,
      "outputs": [
        {
          "output_type": "stream",
          "text": [
            "X_train shape: (136801, 2)\n",
            "X_test shape: (34201, 2)\n",
            "y_train shape: (136801,)\n",
            "y_test shape: (34201,)\n"
          ],
          "name": "stdout"
        }
      ]
    },
    {
      "cell_type": "code",
      "metadata": {
        "id": "KqJ-yVq5w1ji"
      },
      "source": [
        "feature_scaler = StandardScaler()\n",
        "feature_scaler.fit_transform(X_train)\n",
        "X_train = feature_scaler.transform(X_train)\n",
        "X_test = feature_scaler.transform(X_test)"
      ],
      "execution_count": null,
      "outputs": []
    },
    {
      "cell_type": "code",
      "metadata": {
        "id": "hgaus7OMthOV",
        "colab": {
          "base_uri": "https://localhost:8080/"
        },
        "outputId": "d9388597-8336-4667-d324-705abcd9c1e8"
      },
      "source": [
        "classifier = SVC(kernel = 'linear', random_state = 35)\n",
        "classifier.fit(X_train,y_train)"
      ],
      "execution_count": null,
      "outputs": [
        {
          "output_type": "execute_result",
          "data": {
            "text/plain": [
              "SVC(kernel='linear', random_state=35)"
            ]
          },
          "metadata": {
            "tags": []
          },
          "execution_count": 9
        }
      ]
    },
    {
      "cell_type": "code",
      "metadata": {
        "id": "aqzR6QAXk65s",
        "colab": {
          "base_uri": "https://localhost:8080/"
        },
        "outputId": "df98225d-3894-489d-9b22-b49bd0032e50"
      },
      "source": [
        "y_pred = classifier.predict(X_test)\n",
        "print(classification_report(y_test, y_pred))"
      ],
      "execution_count": null,
      "outputs": [
        {
          "output_type": "stream",
          "text": [
            "/usr/local/lib/python3.7/dist-packages/sklearn/metrics/_classification.py:1221: UndefinedMetricWarning: Precision and F-score are ill-defined and being set to 0.0 in labels with no predicted samples. Use `zero_division` parameter to control this behavior.\n",
            "  _warn_prf(average, modifier, msg_start, len(result))\n"
          ],
          "name": "stderr"
        },
        {
          "output_type": "stream",
          "text": [
            "              precision    recall  f1-score   support\n",
            "\n",
            "     company       0.00      0.00      0.00      4846\n",
            "  government       0.52      1.00      0.68     17761\n",
            "  politician       0.00      0.00      0.00      8623\n",
            "      tvshow       0.00      0.00      0.00      2971\n",
            "\n",
            "    accuracy                           0.52     34201\n",
            "   macro avg       0.13      0.25      0.17     34201\n",
            "weighted avg       0.27      0.52      0.36     34201\n",
            "\n"
          ],
          "name": "stdout"
        }
      ]
    },
    {
      "cell_type": "markdown",
      "metadata": {
        "id": "GvZ0T-ZTKHDo"
      },
      "source": [
        "\n",
        "# SVM with Node2Vec\n"
      ]
    },
    {
      "cell_type": "code",
      "metadata": {
        "id": "pk0lHTXHKHDo",
        "colab": {
          "base_uri": "https://localhost:8080/"
        },
        "outputId": "83ddcd13-11f0-4f37-a90d-8b62a0ec8d9f"
      },
      "source": [
        "# Importing required libraries (install other libraries if needed)\n",
        "!pip install node2vec\n",
        "import pandas as pd\n",
        "import numpy as np\n",
        "import networkx as nx\n",
        "import matplotlib.pyplot as plt\n",
        "from node2vec import Node2Vec\n",
        "from sklearn.preprocessing import StandardScaler\n",
        "from sklearn.metrics import classification_report\n",
        "from sklearn.model_selection import train_test_split\n",
        "from sklearn.svm import SVC"
      ],
      "execution_count": null,
      "outputs": [
        {
          "output_type": "stream",
          "text": [
            "Requirement already satisfied: node2vec in /usr/local/lib/python3.7/dist-packages (0.4.3)\n",
            "Requirement already satisfied: gensim in /usr/local/lib/python3.7/dist-packages (from node2vec) (3.6.0)\n",
            "Requirement already satisfied: tqdm in /usr/local/lib/python3.7/dist-packages (from node2vec) (4.56.0)\n",
            "Requirement already satisfied: joblib>=0.13.2 in /usr/local/lib/python3.7/dist-packages (from node2vec) (1.0.0)\n",
            "Requirement already satisfied: numpy in /usr/local/lib/python3.7/dist-packages (from node2vec) (1.19.1)\n",
            "Requirement already satisfied: networkx in /usr/local/lib/python3.7/dist-packages (from node2vec) (2.5.1)\n",
            "Requirement already satisfied: smart-open>=1.2.1 in /usr/local/lib/python3.7/dist-packages (from gensim->node2vec) (5.0.0)\n",
            "Requirement already satisfied: six>=1.5.0 in /usr/local/lib/python3.7/dist-packages (from gensim->node2vec) (1.15.0)\n",
            "Requirement already satisfied: scipy>=0.18.1 in /usr/local/lib/python3.7/dist-packages (from gensim->node2vec) (1.5.4)\n",
            "Requirement already satisfied: decorator<5,>=4.3 in /usr/local/lib/python3.7/dist-packages (from networkx->node2vec) (4.4.2)\n"
          ],
          "name": "stdout"
        }
      ]
    },
    {
      "cell_type": "code",
      "metadata": {
        "id": "heIHWEXBKHDr"
      },
      "source": [
        "G = nx.from_pandas_edgelist(edges, \"id\", \"id_2\", create_using=nx.Graph())\n"
      ],
      "execution_count": null,
      "outputs": []
    },
    {
      "cell_type": "code",
      "metadata": {
        "id": "ZUSKZ-vIKHDt",
        "colab": {
          "base_uri": "https://localhost:8080/",
          "height": 66,
          "referenced_widgets": [
            "4f4236cbecfe4f94a0b2daf7346fb87f",
            "8a8dbefedb3a414093cc2566a1991bb7",
            "d47eadbfab33435486a17ff171dc15ab",
            "b5cad9edd2fb49a09357babb83a0e67a",
            "63d758a5582048768b2348c9e41361b4",
            "2c322f05de6d4867b9f544483020faba",
            "c5c2ee2c3e434741a3349e4ca1d11531",
            "44cf985d77fe440c9ee7502b4890e5a0",
            "0c40fd63e69344b191666bb0927655fb",
            "b8c5e00593be4632bd4345f79bbd15ea",
            "060cc7015ae54b0abde26647267bc5b7"
          ]
        },
        "outputId": "22946c2f-7e17-43b1-86fe-6ff5d92608fc"
      },
      "source": [
        "# Precompute probabilities and generate walks**\n",
        "node2vec = Node2Vec(G, dimensions=32, walk_length=10, num_walks=1, workers=1)"
      ],
      "execution_count": null,
      "outputs": [
        {
          "output_type": "display_data",
          "data": {
            "application/vnd.jupyter.widget-view+json": {
              "model_id": "4f4236cbecfe4f94a0b2daf7346fb87f",
              "version_minor": 0,
              "version_major": 2
            },
            "text/plain": [
              "Computing transition probabilities:   0%|          | 0/22470 [00:00<?, ?it/s]"
            ]
          },
          "metadata": {
            "tags": []
          }
        },
        {
          "output_type": "stream",
          "text": [
            "Generating walks (CPU: 1): 100%|██████████| 1/1 [00:10<00:00, 10.25s/it]\n"
          ],
          "name": "stderr"
        }
      ]
    },
    {
      "cell_type": "code",
      "metadata": {
        "id": "3y2BivekKHDv"
      },
      "source": [
        "# Embed nodes\n",
        "model = node2vec.fit(window = 10, min_count=1)"
      ],
      "execution_count": null,
      "outputs": []
    },
    {
      "cell_type": "code",
      "metadata": {
        "id": "wm_THe_yKHDx"
      },
      "source": [
        "# save the node embeddings\n",
        "model.wv.save_word2vec_format('embedding.csv')"
      ],
      "execution_count": null,
      "outputs": []
    },
    {
      "cell_type": "code",
      "metadata": {
        "id": "ldDDiaC1KHDy"
      },
      "source": [
        "# Retrieve node embeddings\n",
        "node_ids = model.wv.index2word  # list of node IDs\n",
        "node_embeddings = model.wv.vectors"
      ],
      "execution_count": null,
      "outputs": []
    },
    {
      "cell_type": "code",
      "metadata": {
        "id": "gL_mgKJ_KHDz",
        "colab": {
          "base_uri": "https://localhost:8080/"
        },
        "outputId": "84139763-3e77-4339-ffd4-2c3a03109ade"
      },
      "source": [
        "d = {'Nodes': \"\", 'Labels': \"\"}\n",
        "df = pd.DataFrame(data=d, index = range(0,len(node_ids)))\n",
        "df.shape"
      ],
      "execution_count": null,
      "outputs": [
        {
          "output_type": "execute_result",
          "data": {
            "text/plain": [
              "(22470, 2)"
            ]
          },
          "metadata": {
            "tags": []
          },
          "execution_count": 25
        }
      ]
    },
    {
      "cell_type": "code",
      "metadata": {
        "colab": {
          "base_uri": "https://localhost:8080/"
        },
        "id": "AYpqtSQu2Y3M",
        "outputId": "efb8fb34-28da-437d-b5f5-085f940ab729"
      },
      "source": [
        "\n",
        "nodes[\"id\"] = nodes['id'].astype('str')\n",
        "\n",
        "nodes.dtypes"
      ],
      "execution_count": null,
      "outputs": [
        {
          "output_type": "execute_result",
          "data": {
            "text/plain": [
              "id             object\n",
              "facebook_id     int64\n",
              "page_name      object\n",
              "page_type      object\n",
              "dtype: object"
            ]
          },
          "metadata": {
            "tags": []
          },
          "execution_count": 26
        }
      ]
    },
    {
      "cell_type": "code",
      "metadata": {
        "id": "uxV5Pa-numDy"
      },
      "source": [
        "for i in range(0, len(node_ids)):\n",
        "    indices = nodes.index[nodes['id'] == node_ids[i]].tolist()\n",
        "    if indices == []:\n",
        "      df.loc[i]['Nodes'] = 0\n",
        "      df.loc[i]['Labels'] = 0\n",
        "    else:\n",
        "      index = indices[0]\n",
        "      df.loc[i]['Nodes'] = node_ids[i]\n",
        "      df.loc[i]['Labels'] = nodes.iat[index,3]"
      ],
      "execution_count": null,
      "outputs": []
    },
    {
      "cell_type": "code",
      "metadata": {
        "id": "xV6UYA8nKHD2"
      },
      "source": [
        "X = node_embeddings\n",
        "y = df.Labels"
      ],
      "execution_count": null,
      "outputs": []
    },
    {
      "cell_type": "code",
      "metadata": {
        "id": "EWq7QP-aKHD3",
        "colab": {
          "base_uri": "https://localhost:8080/"
        },
        "outputId": "3b1e03a7-841d-4664-95f3-746de97fabf3"
      },
      "source": [
        "X_train, X_test, y_train, y_test = train_test_split(X, y, \n",
        "                                                test_size = 0.2, \n",
        "                                                random_state = 35)\n",
        "print(\"X_train shape: \" + str(X_train.shape))\n",
        "print(\"X_test shape: \" + str(X_test.shape))\n",
        "print(\"y_train shape: \" + str(y_train.shape))\n",
        "print(\"y_test shape: \" + str(y_test.shape))"
      ],
      "execution_count": null,
      "outputs": [
        {
          "output_type": "stream",
          "text": [
            "X_train shape: (17976, 32)\n",
            "X_test shape: (4494, 32)\n",
            "y_train shape: (17976,)\n",
            "y_test shape: (4494,)\n"
          ],
          "name": "stdout"
        }
      ]
    },
    {
      "cell_type": "code",
      "metadata": {
        "id": "wMIQOA3wKHD3"
      },
      "source": [
        "feature_scaler = StandardScaler()\n",
        "feature_scaler.fit_transform(X_train)\n",
        "X_train = feature_scaler.transform(X_train)\n",
        "X_test = feature_scaler.transform(X_test)"
      ],
      "execution_count": null,
      "outputs": []
    },
    {
      "cell_type": "code",
      "metadata": {
        "id": "zzEiJQNOKHD4",
        "colab": {
          "base_uri": "https://localhost:8080/"
        },
        "outputId": "b10e7df5-b781-47c3-bef2-822ad3482e0f"
      },
      "source": [
        "classifier = SVC(kernel = 'linear', random_state = 35)\n",
        "classifier.fit(X_train,y_train)"
      ],
      "execution_count": null,
      "outputs": [
        {
          "output_type": "execute_result",
          "data": {
            "text/plain": [
              "SVC(kernel='linear', random_state=35)"
            ]
          },
          "metadata": {
            "tags": []
          },
          "execution_count": 32
        }
      ]
    },
    {
      "cell_type": "code",
      "metadata": {
        "id": "7eR2FITwKHD4",
        "colab": {
          "base_uri": "https://localhost:8080/"
        },
        "outputId": "59d4cc44-0805-41a1-af45-99aad2a86ee1"
      },
      "source": [
        "y_pred = classifier.predict(X_test)\n",
        "print(classification_report(y_test, y_pred))"
      ],
      "execution_count": null,
      "outputs": [
        {
          "output_type": "stream",
          "text": [
            "              precision    recall  f1-score   support\n",
            "\n",
            "     company       0.50      0.78      0.61      1255\n",
            "  government       0.71      0.64      0.67      1403\n",
            "  politician       0.62      0.60      0.61      1186\n",
            "      tvshow       0.74      0.16      0.27       650\n",
            "\n",
            "    accuracy                           0.60      4494\n",
            "   macro avg       0.64      0.54      0.54      4494\n",
            "weighted avg       0.63      0.60      0.58      4494\n",
            "\n"
          ],
          "name": "stdout"
        }
      ]
    },
    {
      "cell_type": "code",
      "metadata": {
        "colab": {
          "base_uri": "https://localhost:8080/",
          "height": 597
        },
        "id": "RzedJLWNOwKl",
        "outputId": "2a79a80b-2f7d-4320-f4c9-c6c068941591"
      },
      "source": [
        "from sklearn.metrics import confusion_matrix, ConfusionMatrixDisplay\n",
        "import matplotlib.pyplot as plt\n",
        "labels = pd.unique(y)\n",
        "\n",
        "\n",
        "conf_mat = confusion_matrix(y_test, y_pred, labels, normalize = \"true\")\n",
        "cmd = ConfusionMatrixDisplay(conf_mat, display_labels=labels)\n",
        "fig, ax = plt.subplots(figsize=(8,8))\n",
        "cmd.plot(ax=ax,values_format = '.2f')\n",
        "ax.tick_params(axis='x', rotation=90)\n",
        "for item in ([ax.title, ax.xaxis.label, ax.yaxis.label] +\n",
        "             ax.get_xticklabels() + ax.get_yticklabels()):\n",
        "    item.set_fontsize(18)\n",
        "plt.rcParams.update({'font.size': 10})\n",
        "fig.tight_layout()\n",
        "fig.savefig('LRconf_mat.png')"
      ],
      "execution_count": null,
      "outputs": [
        {
          "output_type": "stream",
          "text": [
            "/usr/local/lib/python3.7/dist-packages/sklearn/utils/validation.py:71: FutureWarning: Pass labels=['company' 'government' 'politician' 'tvshow'] as keyword args. From version 0.25 passing these as positional arguments will result in an error\n",
            "  FutureWarning)\n"
          ],
          "name": "stderr"
        },
        {
          "output_type": "display_data",
          "data": {
            "image/png": "[encoded data removed]",
            "text/plain": [
              "<Figure size 576x576 with 2 Axes>"
            ]
          },
          "metadata": {
            "tags": [],
            "needs_background": "light"
          }
        }
      ]
    }
  ]
}