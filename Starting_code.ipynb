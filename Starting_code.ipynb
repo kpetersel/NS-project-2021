{
  "nbformat": 4,
  "nbformat_minor": 0,
  "metadata": {
    "colab": {
      "name": "NS_projekt.ipynb",
      "provenance": [],
      "collapsed_sections": []
    },
    "kernelspec": {
      "name": "python3",
      "display_name": "Python 3"
    },
    "language_info": {
      "name": "python"
    }
  },
  "cells": [
    {
      "cell_type": "markdown",
      "metadata": {
        "id": "EglbI43TKiTz"
      },
      "source": [
        "# Network Science project\n",
        "## Political Facebook pages\n",
        "\n",
        "By:\n",
        "<p> Annika Altoja\n",
        "<p> Kelli Kukk\n",
        "<p> Kristin Petersel"
      ]
    },
    {
      "cell_type": "markdown",
      "metadata": {
        "id": "SPZ_C3GmKz3H"
      },
      "source": [
        "## 1. Descriptive analysis\n",
        "The dataset is from: https://www.kaggle.com/rozemberczki/musae-facebook-pagepage-network"
      ]
    },
    {
      "cell_type": "code",
      "metadata": {
        "id": "4itxo1gwEMRb",
        "colab": {
          "base_uri": "https://localhost:8080/",
          "height": 197
        },
        "outputId": "f508c772-eb2f-4ede-f7e7-3668e7792819"
      },
      "source": [
        "import pandas as pd\n",
        "import networkx as nx\n",
        "import matplotlib.pyplot as plt\n",
        "edges = pd.read_csv('musae_facebook_edges.csv')\n",
        "edges.head()"
      ],
      "execution_count": null,
      "outputs": [
        {
          "output_type": "execute_result",
          "data": {
            "text/html": [
              "<div>\n",
              "<style scoped>\n",
              "    .dataframe tbody tr th:only-of-type {\n",
              "        vertical-align: middle;\n",
              "    }\n",
              "\n",
              "    .dataframe tbody tr th {\n",
              "        vertical-align: top;\n",
              "    }\n",
              "\n",
              "    .dataframe thead th {\n",
              "        text-align: right;\n",
              "    }\n",
              "</style>\n",
              "<table border=\"1\" class=\"dataframe\">\n",
              "  <thead>\n",
              "    <tr style=\"text-align: right;\">\n",
              "      <th></th>\n",
              "      <th>id_1</th>\n",
              "      <th>id_2</th>\n",
              "    </tr>\n",
              "  </thead>\n",
              "  <tbody>\n",
              "    <tr>\n",
              "      <th>0</th>\n",
              "      <td>0</td>\n",
              "      <td>18427</td>\n",
              "    </tr>\n",
              "    <tr>\n",
              "      <th>1</th>\n",
              "      <td>1</td>\n",
              "      <td>21708</td>\n",
              "    </tr>\n",
              "    <tr>\n",
              "      <th>2</th>\n",
              "      <td>1</td>\n",
              "      <td>22208</td>\n",
              "    </tr>\n",
              "    <tr>\n",
              "      <th>3</th>\n",
              "      <td>1</td>\n",
              "      <td>22171</td>\n",
              "    </tr>\n",
              "    <tr>\n",
              "      <th>4</th>\n",
              "      <td>1</td>\n",
              "      <td>6829</td>\n",
              "    </tr>\n",
              "  </tbody>\n",
              "</table>\n",
              "</div>"
            ],
            "text/plain": [
              "   id_1   id_2\n",
              "0     0  18427\n",
              "1     1  21708\n",
              "2     1  22208\n",
              "3     1  22171\n",
              "4     1   6829"
            ]
          },
          "metadata": {
            "tags": []
          },
          "execution_count": 3
        }
      ]
    },
    {
      "cell_type": "code",
      "metadata": {
        "colab": {
          "base_uri": "https://localhost:8080/",
          "height": 197
        },
        "id": "bT-q1jvQNRRF",
        "outputId": "026b3191-3547-466a-fb32-cb8d8ee231c8"
      },
      "source": [
        "nodes = pd.read_csv('musae_facebook_target.csv')\n",
        "nodes.head()"
      ],
      "execution_count": null,
      "outputs": [
        {
          "output_type": "execute_result",
          "data": {
            "text/html": [
              "<div>\n",
              "<style scoped>\n",
              "    .dataframe tbody tr th:only-of-type {\n",
              "        vertical-align: middle;\n",
              "    }\n",
              "\n",
              "    .dataframe tbody tr th {\n",
              "        vertical-align: top;\n",
              "    }\n",
              "\n",
              "    .dataframe thead th {\n",
              "        text-align: right;\n",
              "    }\n",
              "</style>\n",
              "<table border=\"1\" class=\"dataframe\">\n",
              "  <thead>\n",
              "    <tr style=\"text-align: right;\">\n",
              "      <th></th>\n",
              "      <th>id</th>\n",
              "      <th>facebook_id</th>\n",
              "      <th>page_name</th>\n",
              "      <th>page_type</th>\n",
              "    </tr>\n",
              "  </thead>\n",
              "  <tbody>\n",
              "    <tr>\n",
              "      <th>0</th>\n",
              "      <td>0</td>\n",
              "      <td>145647315578475</td>\n",
              "      <td>The Voice of China 中国好声音</td>\n",
              "      <td>tvshow</td>\n",
              "    </tr>\n",
              "    <tr>\n",
              "      <th>1</th>\n",
              "      <td>1</td>\n",
              "      <td>191483281412</td>\n",
              "      <td>U.S. Consulate General Mumbai</td>\n",
              "      <td>government</td>\n",
              "    </tr>\n",
              "    <tr>\n",
              "      <th>2</th>\n",
              "      <td>2</td>\n",
              "      <td>144761358898518</td>\n",
              "      <td>ESET</td>\n",
              "      <td>company</td>\n",
              "    </tr>\n",
              "    <tr>\n",
              "      <th>3</th>\n",
              "      <td>3</td>\n",
              "      <td>568700043198473</td>\n",
              "      <td>Consulate General of Switzerland in Montreal</td>\n",
              "      <td>government</td>\n",
              "    </tr>\n",
              "    <tr>\n",
              "      <th>4</th>\n",
              "      <td>4</td>\n",
              "      <td>1408935539376139</td>\n",
              "      <td>Mark Bailey MP - Labor for Miller</td>\n",
              "      <td>politician</td>\n",
              "    </tr>\n",
              "  </tbody>\n",
              "</table>\n",
              "</div>"
            ],
            "text/plain": [
              "   id  ...   page_type\n",
              "0   0  ...      tvshow\n",
              "1   1  ...  government\n",
              "2   2  ...     company\n",
              "3   3  ...  government\n",
              "4   4  ...  politician\n",
              "\n",
              "[5 rows x 4 columns]"
            ]
          },
          "metadata": {
            "tags": []
          },
          "execution_count": 13
        }
      ]
    },
    {
      "cell_type": "code",
      "metadata": {
        "id": "aP9nudC3EsQb"
      },
      "source": [
        "G_unweighted_undirected = nx.from_pandas_edgelist(edges, source='id_1', target='id_2')"
      ],
      "execution_count": null,
      "outputs": []
    },
    {
      "cell_type": "markdown",
      "metadata": {
        "id": "xTwc235JK7KS"
      },
      "source": [
        "###Number of components"
      ]
    },
    {
      "cell_type": "code",
      "metadata": {
        "colab": {
          "base_uri": "https://localhost:8080/"
        },
        "id": "IMri-klUEuFc",
        "outputId": "335f5e81-9133-478e-e8de-2c91f04a6bdf"
      },
      "source": [
        "nx.algorithms.components.number_connected_components(G_unweighted_undirected)"
      ],
      "execution_count": null,
      "outputs": [
        {
          "output_type": "execute_result",
          "data": {
            "text/plain": [
              "1"
            ]
          },
          "metadata": {
            "tags": []
          },
          "execution_count": 5
        }
      ]
    },
    {
      "cell_type": "markdown",
      "metadata": {
        "id": "Wd2MnhQwK-Fk"
      },
      "source": [
        "###Graph"
      ]
    },
    {
      "cell_type": "code",
      "metadata": {
        "id": "5GR6o6ucEvwA"
      },
      "source": [
        "plt.figure(3,figsize=(20,20))\n",
        "nx.draw_networkx(G_unweighted_undirected, with_labels = False)"
      ],
      "execution_count": null,
      "outputs": []
    },
    {
      "cell_type": "markdown",
      "metadata": {
        "id": "57UNzb7qHlBo"
      },
      "source": [
        "###Min, Max, Average degree"
      ]
    },
    {
      "cell_type": "code",
      "metadata": {
        "colab": {
          "base_uri": "https://localhost:8080/"
        },
        "id": "T2DD1uaXHnKb",
        "outputId": "e789be79-f5b7-4245-829b-14c19e18a02b"
      },
      "source": [
        "N, K = G_unweighted_undirected.order(), G_unweighted_undirected.size()\n",
        "avg_deg = float(K) / N\n",
        "avg_deg"
      ],
      "execution_count": null,
      "outputs": [
        {
          "output_type": "execute_result",
          "data": {
            "text/plain": [
              "7.610235870048954"
            ]
          },
          "metadata": {
            "tags": []
          },
          "execution_count": 15
        }
      ]
    },
    {
      "cell_type": "code",
      "metadata": {
        "colab": {
          "base_uri": "https://localhost:8080/"
        },
        "id": "u9k76TdCIAuY",
        "outputId": "8867ffc8-4992-4999-cdac-f9523d4f9e1d"
      },
      "source": [
        "all_degrees = G_unweighted_undirected.degree()\n",
        "degr_top4 = sorted(degree_centrUU, key=degree_centrUU.get, reverse=True)[:4]\n",
        "#print(degr_top4)\n",
        "for i in degr_top4:\n",
        "  print(nodes[nodes[\"id\"] == i][\"page_name\"], \", Degree:\", all_degrees[i])"
      ],
      "execution_count": null,
      "outputs": [
        {
          "output_type": "stream",
          "text": [
            "[16895, 19743, 21729, 14497]\n",
            "16895    U.S. Army\n",
            "Name: page_name, dtype: object , Degree: 709\n",
            "19743    The White House\n",
            "Name: page_name, dtype: object , Degree: 678\n",
            "21729    The Obama White House\n",
            "Name: page_name, dtype: object , Degree: 659\n",
            "14497    U.S. Army Chaplain Corps\n",
            "Name: page_name, dtype: object , Degree: 650\n"
          ],
          "name": "stdout"
        }
      ]
    },
    {
      "cell_type": "code",
      "metadata": {
        "id": "esSZtzcOUShD"
      },
      "source": [
        "# import collections\n",
        "# import matplotlib.pyplot as plt\n",
        "# degree_sequence = sorted([d for n, d in G_unweighted_undirected.degree()], reverse=True)  # degree sequence\n",
        "# degreeCount = collections.Counter(degree_sequence)\n",
        "# deg, cnt = zip(*degreeCount.items())\n",
        "\n",
        "\n",
        "# fig, ax = plt.subplots()\n",
        "# plt.figure(figsize=(16,12))\n",
        "# plt.bar(deg, cnt, width=0.80, color=\"b\")\n",
        "# plt.title(\"Degree Histogram\")\n",
        "# plt.ylabel(\"Count\")\n",
        "# plt.xlabel(\"Degree\")\n",
        "\n",
        "# ax.set_xticks([d + 0.4 for d in deg])\n",
        "# ax.set_xticklabels(deg);\n"
      ],
      "execution_count": null,
      "outputs": []
    },
    {
      "cell_type": "code",
      "metadata": {
        "colab": {
          "base_uri": "https://localhost:8080/",
          "height": 268
        },
        "id": "R7C6cl7rb1K2",
        "outputId": "c06d42ce-4852-41db-a1dd-67df6a88b04a"
      },
      "source": [
        "plt.loglog(degree_sequence,marker='*')\n",
        "plt.show()"
      ],
      "execution_count": null,
      "outputs": [
        {
          "output_type": "display_data",
          "data": {
            "image/png": "[encoded data removed]",
            "text/plain": [
              "<Figure size 432x288 with 1 Axes>"
            ]
          },
          "metadata": {
            "tags": [],
            "needs_background": "light"
          }
        }
      ]
    },
    {
      "cell_type": "markdown",
      "metadata": {
        "id": "Q-9UtiVPF21p"
      },
      "source": [
        "###Edge density"
      ]
    },
    {
      "cell_type": "code",
      "metadata": {
        "colab": {
          "base_uri": "https://localhost:8080/"
        },
        "id": "w35cHVEMF2OC",
        "outputId": "523c1170-185a-4085-f0e3-4d412cad67f0"
      },
      "source": [
        "nx.classes.function.density(G_unweighted_undirected)\n",
        "#The edge density is 0.00067, which means that 0.067% of possible edges in the network exist in this network. It is the ratio of existing edges over possible ones."
      ],
      "execution_count": null,
      "outputs": [
        {
          "output_type": "execute_result",
          "data": {
            "text/plain": [
              "0.000677398715568023"
            ]
          },
          "metadata": {
            "tags": []
          },
          "execution_count": 6
        }
      ]
    },
    {
      "cell_type": "markdown",
      "metadata": {
        "id": "2fCsYPVHGMLF"
      },
      "source": [
        "###Clustering coefficient"
      ]
    },
    {
      "cell_type": "code",
      "metadata": {
        "colab": {
          "base_uri": "https://localhost:8080/"
        },
        "id": "qV202N0IGLX5",
        "outputId": "56b3e4b4-b876-447c-eb71-dcf12a2b9b08"
      },
      "source": [
        "nx.average_clustering(G_unweighted_undirected)\n",
        "#The clustering coefficient says that 35.9% of the node neighbours are connected with each other in average. This mean that in avarage \"35.9% of your liked pages like your other liked pages\"."
      ],
      "execution_count": null,
      "outputs": [
        {
          "output_type": "execute_result",
          "data": {
            "text/plain": [
              "0.3597383824426942"
            ]
          },
          "metadata": {
            "tags": []
          },
          "execution_count": 7
        }
      ]
    },
    {
      "cell_type": "markdown",
      "metadata": {
        "id": "Yutq_Vh8GZ6Y"
      },
      "source": [
        "###Diameter"
      ]
    },
    {
      "cell_type": "code",
      "metadata": {
        "id": "UaTh6KN-GYGP"
      },
      "source": [
        "#nx.diameter(G_unweighted_undirected) "
      ],
      "execution_count": null,
      "outputs": []
    },
    {
      "cell_type": "markdown",
      "metadata": {
        "id": "Z6ZBW48GGlSY"
      },
      "source": [
        "###Average path length"
      ]
    },
    {
      "cell_type": "code",
      "metadata": {
        "colab": {
          "base_uri": "https://localhost:8080/"
        },
        "id": "gCvz-gymGUgb",
        "outputId": "5a96b18a-692e-4656-ee7d-2f9a94116d9d"
      },
      "source": [
        "nx.average_shortest_path_length(G_unweighted_undirected)"
      ],
      "execution_count": null,
      "outputs": [
        {
          "output_type": "execute_result",
          "data": {
            "text/plain": [
              "4.973703570580348"
            ]
          },
          "metadata": {
            "tags": []
          },
          "execution_count": 9
        }
      ]
    },
    {
      "cell_type": "markdown",
      "metadata": {
        "id": "0lPVhwKnG34p"
      },
      "source": [
        "###Degree centrality"
      ]
    },
    {
      "cell_type": "code",
      "metadata": {
        "colab": {
          "base_uri": "https://localhost:8080/"
        },
        "id": "SzN8dkjtG1-3",
        "outputId": "b422615a-abdb-4eaf-f202-d3d40e3bde73"
      },
      "source": [
        "degree_centrUU = nx.degree_centrality(G_unweighted_undirected)\n",
        "degree_top4 = sorted(degree_centrUU, key=degree_centrUU.get, reverse=True)[:4]\n",
        "print(degree_top4)\n",
        "for i in degree_top4:\n",
        "  print(nodes[nodes[\"id\"] == i][\"page_name\"], \", Degree centrality:\", degree_centrUU[i])"
      ],
      "execution_count": null,
      "outputs": [
        {
          "output_type": "stream",
          "text": [
            "[16895, 19743, 21729, 14497]\n",
            "16895    U.S. Army\n",
            "Name: page_name, dtype: object , Degree centrality: 0.0315545863189283\n",
            "19743    The White House\n",
            "Name: page_name, dtype: object , Degree centrality: 0.030174907650540747\n",
            "21729    The Obama White House\n",
            "Name: page_name, dtype: object , Degree centrality: 0.029329298144109662\n",
            "14497    U.S. Army Chaplain Corps\n",
            "Name: page_name, dtype: object , Degree centrality: 0.028928746272642306\n"
          ],
          "name": "stdout"
        }
      ]
    },
    {
      "cell_type": "markdown",
      "metadata": {
        "id": "qwGSvG9NOBv-"
      },
      "source": [
        "###Betweenness centrality"
      ]
    },
    {
      "cell_type": "code",
      "metadata": {
        "id": "zYGLe1qDOZdu"
      },
      "source": [
        "betweenness_centralityUU = nx.betweenness_centrality(G_unweighted_undirected)\n",
        "for i in sorted(betweenness_centralityUU, key=betweenness_centralityUU.get, reverse=True)[:4]:\n",
        "  #print(node, betweenness_centralityUU[node])\n",
        "  print(nodes[nodes[\"id\"] == i][\"page_name\"], \", Betweenness centrality:\", betweenness_centralityUU[i])"
      ],
      "execution_count": null,
      "outputs": []
    },
    {
      "cell_type": "markdown",
      "metadata": {
        "id": "bUrvoxcaLcff"
      },
      "source": [
        "##KarateClub"
      ]
    },
    {
      "cell_type": "code",
      "metadata": {
        "id": "J4AK4qgWE3Yc"
      },
      "source": [
        "!pip install karateclub\n",
        "from karateclub import LabelPropagation\n",
        "model = LabelPropagation()\n",
        "model.fit(G_unweighted_undirected)\n",
        "cluster_membership = model.get_memberships()\n",
        "cluster_membership"
      ],
      "execution_count": null,
      "outputs": []
    },
    {
      "cell_type": "markdown",
      "metadata": {
        "id": "t7Yzm5t6Lgwa"
      },
      "source": [
        "##Communities with Louvain"
      ]
    },
    {
      "cell_type": "code",
      "metadata": {
        "colab": {
          "base_uri": "https://localhost:8080/"
        },
        "id": "HKOf4Y6KLfDN",
        "outputId": "f0514c5f-cc0e-4ba8-b715-1f81a8b5dfa5"
      },
      "source": [
        "import community as community_louvain\n",
        "lst_m = community_louvain.best_partition(G_unweighted_undirected)\n",
        "print(len(set(lst_m.values())))"
      ],
      "execution_count": null,
      "outputs": [
        {
          "output_type": "stream",
          "text": [
            "63\n"
          ],
          "name": "stdout"
        }
      ]
    }
  ]
}